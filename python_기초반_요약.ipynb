{
  "nbformat": 4,
  "nbformat_minor": 0,
  "metadata": {
    "colab": {
      "name": "python_기초반_요약.ipynb",
      "provenance": [],
      "collapsed_sections": []
    },
    "kernelspec": {
      "name": "python3",
      "display_name": "Python 3"
    }
  },
  "cells": [
    {
      "cell_type": "markdown",
      "metadata": {
        "id": "ALGtkPY2o6d6",
        "colab_type": "text"
      },
      "source": [
        "# 내용 정리\n",
        "\n"
      ]
    },
    {
      "cell_type": "markdown",
      "metadata": {
        "id": "J1fGqkJbo-Im",
        "colab_type": "text"
      },
      "source": [
        "# 변수와 데이터 타입\n",
        "\n",
        "\n",
        "## 변수\n",
        "\n",
        "연산자 =를 사용하여 변수에 값을 담는다.\n",
        "\n",
        "```\n",
        "name = \"Tom\"\n",
        "age = 30\n",
        "```\n",
        "\n",
        "<br>\n",
        "\n",
        "좌측은 변수 이름이고, 우측은 값이나 연산 내용이나 함수 호출 등이 될 수 있다.\n",
        "\n",
        "```\n",
        "i = 3\n",
        "i = 3*2\n",
        "i = sum(3,2)\n",
        "```\n",
        "\n",
        "<br>\n",
        "\n",
        "## 데이터 타입\n",
        "\n",
        "다음의 데이터 타입이 있다.\n",
        "\n",
        "- int : -1, 0, 3과 같이 정수. int\n",
        "- float : -1.0, 0.3, 3.1과 같이 실수, float\n",
        "- str : \"Tom\", \"1\"과 같이 문자열. str\n",
        "- bool : True, False의 bool\n",
        "\n",
        "\n",
        "<br>\n",
        "\n",
        "## 타입 변환\n",
        "\n",
        "- int()\n",
        "- float()\n",
        "- str()\n",
        "- bool() : \"False\", 0, None인 경우에만 False. 이외는 전부 True\n",
        "\n",
        "```\n",
        "i = int(\"3\")\n",
        "i = int(\"3.1\")\n",
        "\n",
        "f = float(\"3\")\n",
        "f = float(\"3.1\")\n",
        "\n",
        "s = str(3)\n",
        "s = str(3.1)\n",
        "s = str(True)\n",
        "\n",
        "b = bool(1)\n",
        "b = bool(0)\n",
        "b = bool(None)\n",
        "b = bool(\"False\")\n",
        "\n",
        "```\n",
        "\n",
        "\n",
        "\n",
        "\n"
      ]
    },
    {
      "cell_type": "markdown",
      "metadata": {
        "id": "EcU62QPvvTgw",
        "colab_type": "text"
      },
      "source": [
        "# 스트링의 format\n",
        "\n",
        "print(\"name = {}, age = {}\".format(name, age))\n",
        "\n"
      ]
    },
    {
      "cell_type": "markdown",
      "metadata": {
        "id": "VtffqvA6u7gd",
        "colab_type": "text"
      },
      "source": [
        "# 함수\n",
        "\n",
        "```\n",
        "def sum(a,b):\n",
        "  sum = a + b\n",
        "  return sum\n",
        "\n",
        "print(sum(1,2))  \n",
        "```\n",
        "\n",
        "\n",
        "<br>\n",
        "\n",
        "반환 값이 없을 수도 있다.\n",
        "\n",
        "```\n",
        "def print_hi(\"name\")\n",
        "  print(\"hi {}\".format(name)\n",
        "\n",
        "print_hi(\"Tom\")\n",
        "```\n",
        "\n",
        "\n",
        "\n",
        "\n"
      ]
    },
    {
      "cell_type": "markdown",
      "metadata": {
        "id": "4PgQ7U66o-OE",
        "colab_type": "text"
      },
      "source": [
        "# 제어문\n",
        "\n",
        "if, elif, else로 제어한다.\n",
        "\n",
        "```\n",
        "if i==1:\n",
        "  print(1)\n",
        "\n",
        "\n",
        "if i==1:\n",
        "  print(1)\n",
        "else:\n",
        "  print(0)\n",
        "\n",
        "\n",
        "\n",
        "if i==1:\n",
        "  print(1)\n",
        "elif i==2:\n",
        "  print(2)\n",
        "else:\n",
        "  print(0)   \n",
        "```\n",
        "\n",
        "\n"
      ]
    },
    {
      "cell_type": "markdown",
      "metadata": {
        "id": "pbjOwmifrHXn",
        "colab_type": "text"
      },
      "source": [
        "# 자료형 - 리스트\n",
        "\n",
        "여러개의 값을 갖는다.\n",
        "\n",
        "```\n",
        "l = [ 0, 1, 2, 3, 4 ]\n",
        "l = [ \"Tom\", \"Jerry\" ]\n",
        "```\n",
        "\n",
        "```\n",
        "len(l)      # 갯수\n",
        "print(l[1]) # 값 보기\n",
        "l[1] = 9    # 값 설정\n",
        "l.append(5) # 값 추가\n",
        "```\n",
        "\n",
        "\n"
      ]
    },
    {
      "cell_type": "markdown",
      "metadata": {
        "id": "u_Pwa1-RsJZC",
        "colab_type": "text"
      },
      "source": [
        "# 반복문"
      ]
    },
    {
      "cell_type": "markdown",
      "metadata": {
        "id": "8428T-_Po-Wb",
        "colab_type": "text"
      },
      "source": [
        "## for 루프\n",
        "\n",
        "```\n",
        "i = [ 2, 4, 6, 8 ]\n",
        "for i in l: # 리스트의 각 내용을 가지고\n",
        "  print(i)\n",
        "\n",
        "for i in range(5): # 0에서 4까지 5개\n",
        "  print(i) \n",
        "\n",
        "for i in range(10, 15): # 10에서 14까지 5개  \n",
        "  print(i)\n",
        "\n",
        "for i in range(10, 15, 2): # 10에서 14까지 2개 마다. 3개\n",
        "  print(i)  \n",
        "```\n"
      ]
    },
    {
      "cell_type": "markdown",
      "metadata": {
        "id": "fFUXdU_So-cG",
        "colab_type": "text"
      },
      "source": [
        "## while 루프\n",
        "\n",
        "```\n",
        "while i>0:\n",
        "  print(i)\n",
        "\n",
        "\n",
        "while True:\n",
        "  print(i)  \n",
        "\n",
        "\n",
        "while True:\n",
        "  ...\n",
        "  if i==\"\":\n",
        "    break  \n",
        "\n",
        "while len(l)<10:\n",
        "  ...\n",
        "```\n",
        "\n"
      ]
    },
    {
      "cell_type": "markdown",
      "metadata": {
        "id": "-B0U0ro7o-hf",
        "colab_type": "text"
      },
      "source": [
        "# 자료형 - 딕션너리\n",
        "\n",
        "```\n",
        "d = {\n",
        "  \"cat\" : \"고양이\",\n",
        "  \"dog\" : \"강아지\",\n",
        "  \"table\" : \"책상\",\n",
        "  \"chair\" : \"의자\"\n",
        "}  \n",
        "\n",
        "```\n",
        "\n",
        "```\n",
        "len(d)   # 갯수\n",
        "d[\"cat\"] # 값을 볼 때\n",
        "d[\"dog\"] = \"댕댕이\" # 값을 바꾸거나, 추가할 때\n",
        "```\n",
        "\n",
        "<br>\n",
        "\n",
        "\n",
        "각 항목을 item이라 하고, 각 item은 key와 value로 구성되어 있다.\n",
        "\n",
        "위 예의 경우 4개의 item이 있고,\n",
        "\"cat\" : \"고양이\" item은 \"cat\"이 key이고, \"고양이\"가 value이다.\n",
        "\n",
        "\n",
        "\n",
        "\n"
      ]
    },
    {
      "cell_type": "markdown",
      "metadata": {
        "id": "dbxr50jJvvVI",
        "colab_type": "text"
      },
      "source": [
        "# 코드 블럭\n",
        "\n",
        "```\n",
        "if i>30:\n",
        "  print(i)\n",
        "  print(i*2)\n",
        "print(i*3)\n",
        "\n",
        "for i in l:\n",
        "  print(i)\n",
        "  print(i*2)  \n",
        "print(i*3)  \n",
        "\n",
        "\n",
        "for i>30:\n",
        "  print(i)\n",
        "  print(i*2)\n",
        "print(i*3)  \n",
        "```"
      ]
    },
    {
      "cell_type": "markdown",
      "metadata": {
        "id": "Tgu0U3ySwamm",
        "colab_type": "text"
      },
      "source": [
        "# 사용자 입력\n",
        "\n",
        "```\n",
        "i = input()\n",
        "name = input(\"name :\")\n",
        "```\n",
        "\n",
        "```\n",
        "i = input()\n",
        "i = int(i) # 입력은 str타입이다. 이를 int로 변환\n",
        "``\n"
      ]
    },
    {
      "cell_type": "markdown",
      "metadata": {
        "id": "zBc2PaZluG1X",
        "colab_type": "text"
      },
      "source": [
        "# File IO\n",
        "\n",
        "input.txt를 읽기 모드로 열어서 한줄 읽기\n",
        "\n",
        "```\n",
        "f = open(\"input.txt\", \"r\") # 읽기 모드로 열기\n",
        "line = f.readline() # 한줄 읽기\n",
        "f.close() # 파일 닫기\n",
        "print(line)\n",
        "```\n",
        "\n",
        "\n",
        "<br>\n",
        "\n",
        "input.txt를 읽기 모드로 열어서 모두 읽기\n",
        "\n",
        "```\n",
        "f = open(\"input.txt\", \"r\")\n",
        "lines = f.readlines() # 모든 줄 읽기\n",
        "f.close()\n",
        "\n",
        "for line in linese:\n",
        "  print(lines)\n",
        "```\n",
        "\n",
        "\n",
        "<br>\n",
        "\n",
        "output.txt를 쓰기 모드로 열어서 쓰기\n",
        "\n",
        "```\n",
        "f = open(\"output.txt\", \"w\")\n",
        "f.write(\"hello\\n\")\n",
        "f.close()\n",
        "```\n",
        "\n",
        "\n",
        "\n",
        "\n",
        "\n"
      ]
    },
    {
      "cell_type": "markdown",
      "metadata": {
        "id": "h1WMhfw-o-T7",
        "colab_type": "text"
      },
      "source": [
        "# 특수 기호\n",
        "\n",
        "## 기호 \"(큰따옴표) '(작은 따옴표)\n",
        "문자열을 정의할 때 사용\n",
        "\n",
        "```\n",
        "name = \"Tom\"\n",
        "name = 'Tom'\n",
        "```\n",
        "\n",
        "문자열 안에 \"나 '가 포함될 경우 문자열 시작과 처음을 다른 것으로 한다.\n",
        "\n",
        "```\n",
        "\"It's me\"\n",
        "'He said \"Hi\"'\n",
        "```\n",
        "\n",
        "<br>\n",
        "\n",
        "\n",
        "## 기호 =\n",
        "좌측의 변수에 우측의 값 혹은 우측의 연산 결과를 담는다\n",
        "```\n",
        "name = \"Tom\"\n",
        "sum = get_sum(1,2,3)\n",
        "```\n",
        "\n",
        "<br>\n",
        "\n",
        "## 기호 ==, !=\n",
        "좌우의 값이 같음 혹은 다름을 판단\n",
        "```\n",
        "if name ==\"\": # name에 담긴 값이 \"\"과 같다면\n",
        "```\n",
        "\n",
        "```\n",
        "if value != \"tom\": # value에 담긴 값이 \"tom\"이 아니라면\n",
        "```\n",
        "\n",
        "<br>\n",
        "\n",
        "## 기호 ( )\n",
        "- 함수 정의나 함수 호출\n",
        "- 연산 우선 순위\n",
        "\n",
        "함수\n",
        "```\n",
        "print(30)\n",
        "\n",
        "def sum(a,b):\n",
        "  return a+b\n",
        "\n",
        "print(sum(1,2))\n",
        "```\n",
        "\n",
        "연산 우선순위\n",
        "```\n",
        "(1+2)*3\n",
        "1+(2*3)\n",
        "```\n",
        "\n",
        "\n",
        "<br>\n",
        "\n",
        "## 기호 ,\n",
        "여러개를 열거 할 때\n",
        "\n",
        "```\n",
        "print(1,2,3)\n",
        "\n",
        "def sum(a,b):\n",
        "  return a+b\n",
        "```\n",
        "\n",
        "<br>\n",
        "\n",
        "## 기호 [ ], { }\n",
        "\n",
        "- \\[ ] : 리스트를 정의할 때. 리스트나 딕션너리 값을 참조할 때\n",
        "- { } : 딕션너리를 정의할 때\n",
        "\n",
        "```\n",
        "l = [ 1, 2, 3, 4, 5 ]\n",
        "l = [ \"Tom\", \"Jerry\", \"철수\", \"영희\" ]\n",
        "print(l[0])\n",
        "```\n",
        "\n",
        "```\n",
        "d = {\n",
        "  \"dog\" : \"강아지\",\n",
        "  \"cat\" : \"고양이\"\n",
        "}\n",
        "print(d[\"dog\"])\n",
        "```\n",
        "\n",
        "<br>\n",
        "\n",
        "\n",
        "## 기호 :(콜론)\n",
        "\n",
        "코드 블럭이 시작됨을 명시.\n",
        "```\n",
        "while True:\n",
        "  name = input()\n",
        "\n",
        "if name==\"\":\n",
        "  break\n",
        "\n",
        "for i in l:\n",
        "  print(i)\n",
        "```\n",
        "\n",
        "딕션너리 정의할 때 키와 값을 구분\n",
        "```\n",
        "d = { \"dog\":\"강아지\" }\n",
        "```\n",
        "\n",
        "\n",
        "<br>\n",
        "\n",
        "\n",
        "## 기호 +, -, *, /, %\n",
        "- \\+ : 더하기\n",
        "- \\- : 빼기\n",
        "- \\* : 곱하기\n",
        "- / : 나누기\n",
        "- % : 나머지\n",
        "\n",
        "\n",
        "```\n",
        "print(1+2)\n",
        "print(\"hello\"+\" tom\")\n",
        "```\n",
        "\n",
        "<br>\n",
        "\n",
        "## 기호 \\(역슬래쉬)\n",
        "\n",
        "문자열 내에서 다른 의미를 표현할 때\n",
        "```\n",
        "print(\"says \\\"HI\\\"\") # says \"HI\" 처럼 문자열을 감싸는 큰따옴표가 아니라 문자열에 포함되는 문자임을 표시\n",
        "print(\"HI\\n\")) # 줄바꿈 문자를 표시\n",
        "print(\"hi\\ttom\") # 탭 문자를 표시\n",
        "\n",
        "```\n",
        "\n",
        "<br>\n",
        "\n",
        "## 기호 .(쩜)\n",
        "\n",
        "특정 데이터 타입에 연결되어 있는 함수를 호출할 때 사용\n",
        "```\n",
        "\"{} x {} = {}\".format(3, 4, 12)\n",
        "\"1,2,3,4\".split(\",\")\n",
        "```\n",
        "\n",
        "\n",
        "<br>\n",
        "\n",
        "\n",
        "## 기호 #(샾)\n",
        "\n",
        "실행되지 않는 설명문을 표시\n",
        "\n",
        "```\n",
        "name = \"Tom\" # 변수에 값을 설정\n",
        "\n",
        "# age = 30\n",
        "\n",
        "```\n",
        "\n",
        "\n",
        "<br>\n",
        "\n",
        "## 예약어\n",
        "\n",
        "### True, False\n",
        "참 혹은 거짓을 의미하는 boolean 타입의 값\n",
        "\n",
        "### None\n",
        "아무것도 없을을 의미하는 값\n",
        "\n",
        "\n",
        "<br>\n",
        "\n",
        "\n",
        "\n",
        "\n",
        "\n",
        "\n"
      ]
    },
    {
      "cell_type": "markdown",
      "metadata": {
        "id": "xch9HfWswRuq",
        "colab_type": "text"
      },
      "source": [
        "# 코드 샘플"
      ]
    },
    {
      "cell_type": "markdown",
      "metadata": {
        "id": "hYJa9_7wwsNv",
        "colab_type": "text"
      },
      "source": [
        "## 무한 입력. 빈칸이면 중지\n"
      ]
    },
    {
      "cell_type": "code",
      "metadata": {
        "id": "-qFIc_qNw1xZ",
        "colab_type": "code",
        "outputId": "29e55794-24d4-46a6-b84c-0f5ad12fa088",
        "colab": {
          "base_uri": "https://localhost:8080/",
          "height": 134
        }
      },
      "source": [
        "while True:\n",
        "  i = input()\n",
        "  if i==\"\":\n",
        "    break\n",
        "  print(i)"
      ],
      "execution_count": 0,
      "outputs": [
        {
          "output_type": "stream",
          "text": [
            "1\n",
            "1\n",
            "2\n",
            "2\n",
            "3\n",
            "3\n",
            "\n"
          ],
          "name": "stdout"
        }
      ]
    },
    {
      "cell_type": "markdown",
      "metadata": {
        "id": "Qe6nRpq1xHil",
        "colab_type": "text"
      },
      "source": [
        "## 3의 배수이면"
      ]
    },
    {
      "cell_type": "code",
      "metadata": {
        "id": "pYmOcUL7o5ge",
        "colab_type": "code",
        "outputId": "e4e3007b-45d0-439e-9f84-292c939745ed",
        "colab": {
          "base_uri": "https://localhost:8080/",
          "height": 34
        }
      },
      "source": [
        "i = 6\n",
        "if i%3==0:\n",
        "  print(\"i는 {}. 3의 배수\".format(i))\n"
      ],
      "execution_count": 0,
      "outputs": [
        {
          "output_type": "stream",
          "text": [
            "i는 6. 3의 배수\n"
          ],
          "name": "stdout"
        }
      ]
    },
    {
      "cell_type": "markdown",
      "metadata": {
        "id": "QWWC7JgDxaoz",
        "colab_type": "text"
      },
      "source": [
        "## 2의 배수이고 3의 배수이면"
      ]
    },
    {
      "cell_type": "code",
      "metadata": {
        "id": "dY5aLufLxUEt",
        "colab_type": "code",
        "outputId": "c337072d-c65e-4d18-805e-d7d2e470589c",
        "colab": {
          "base_uri": "https://localhost:8080/",
          "height": 34
        }
      },
      "source": [
        "i = 6\n",
        "\n",
        "if i%2==0 and i%3==0:\n",
        "  print(\"i는 {}. 2의 배수이고 3의 배수\")"
      ],
      "execution_count": 0,
      "outputs": [
        {
          "output_type": "stream",
          "text": [
            "i는 {}. 2의 배수이고 3의 배수\n"
          ],
          "name": "stdout"
        }
      ]
    },
    {
      "cell_type": "markdown",
      "metadata": {
        "id": "UpneXkZ8yE2j",
        "colab_type": "text"
      },
      "source": [
        "## 리스트의 값 출력"
      ]
    },
    {
      "cell_type": "code",
      "metadata": {
        "id": "O9vNcw79xlOZ",
        "colab_type": "code",
        "outputId": "5e4db4f6-f031-4481-ab2f-d5e50f568e9c",
        "colab": {
          "base_uri": "https://localhost:8080/",
          "height": 101
        }
      },
      "source": [
        "l = [ 0, 1, 2, 3, 4 ]\n",
        "for i in l:\n",
        "  print(i)"
      ],
      "execution_count": 0,
      "outputs": [
        {
          "output_type": "stream",
          "text": [
            "0\n",
            "1\n",
            "2\n",
            "3\n",
            "4\n"
          ],
          "name": "stdout"
        }
      ]
    },
    {
      "cell_type": "markdown",
      "metadata": {
        "id": "st76SfQvyLx8",
        "colab_type": "text"
      },
      "source": [
        "## 2개 리스트를 같이 출력"
      ]
    },
    {
      "cell_type": "code",
      "metadata": {
        "id": "XQenK--AyJYH",
        "colab_type": "code",
        "outputId": "930400ed-d9aa-43c2-f7dd-1a9492b5b7c2",
        "colab": {
          "base_uri": "https://localhost:8080/",
          "height": 101
        }
      },
      "source": [
        "l1 = [ 0, 1, 2, 3, 4 ]\n",
        "l2 = [ 10, 10, 10, 20, 20 ]\n",
        "\n",
        "size = len(l1)\n",
        "\n",
        "for i in range(size):\n",
        "  print(l1[i], l2[i])\n"
      ],
      "execution_count": 0,
      "outputs": [
        {
          "output_type": "stream",
          "text": [
            "0 10\n",
            "1 10\n",
            "2 10\n",
            "3 20\n",
            "4 20\n"
          ],
          "name": "stdout"
        }
      ]
    },
    {
      "cell_type": "markdown",
      "metadata": {
        "id": "AxsKhoNgygJN",
        "colab_type": "text"
      },
      "source": [
        "## 리스트의 값을 2배한 리스트"
      ]
    },
    {
      "cell_type": "code",
      "metadata": {
        "id": "AnTRKPoVyQbB",
        "colab_type": "code",
        "outputId": "eb4c3b8a-46f9-4613-fb4a-921250edbf11",
        "colab": {
          "base_uri": "https://localhost:8080/",
          "height": 34
        }
      },
      "source": [
        "l = [ 0, 1, 2, 3, 4 ]\n",
        "l2 = []\n",
        "for i in l:\n",
        "  l2.append(i*2)\n",
        "\n",
        "print(l2)  "
      ],
      "execution_count": 0,
      "outputs": [
        {
          "output_type": "stream",
          "text": [
            "[0, 2, 4, 6, 8]\n"
          ],
          "name": "stdout"
        }
      ]
    },
    {
      "cell_type": "markdown",
      "metadata": {
        "id": "hfgS_JUEy4ST",
        "colab_type": "text"
      },
      "source": [
        "## 사용자의 입력을 계산하여 특정 포멧으로 출력"
      ]
    },
    {
      "cell_type": "code",
      "metadata": {
        "id": "fl44afKvyobA",
        "colab_type": "code",
        "outputId": "4221ffd5-f3a0-46a3-b31b-d10e32982c9d",
        "colab": {
          "base_uri": "https://localhost:8080/",
          "height": 50
        }
      },
      "source": [
        "i = input()\n",
        "i = int(i)\n",
        "print(\"입력은 {}이고, 2로 나눈 나머지는 {}입니다.\".format(i, i%2))"
      ],
      "execution_count": 0,
      "outputs": [
        {
          "output_type": "stream",
          "text": [
            "3\n",
            "입력은 3이고, 2로 나눈 나머지는 1입니다.\n"
          ],
          "name": "stdout"
        }
      ]
    },
    {
      "cell_type": "code",
      "metadata": {
        "id": "OAjd9lcrzN0t",
        "colab_type": "code",
        "colab": {}
      },
      "source": [
        ""
      ],
      "execution_count": 0,
      "outputs": []
    }
  ]
}