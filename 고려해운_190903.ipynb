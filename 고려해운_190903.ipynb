{
  "nbformat": 4,
  "nbformat_minor": 0,
  "metadata": {
    "colab": {
      "name": "고려해운_190903.ipynb",
      "version": "0.3.2",
      "provenance": [],
      "collapsed_sections": [],
      "toc_visible": true
    },
    "kernelspec": {
      "name": "python3",
      "display_name": "Python 3"
    }
  },
  "cells": [
    {
      "cell_type": "markdown",
      "metadata": {
        "id": "rcTFD2KSVZsP",
        "colab_type": "text"
      },
      "source": [
        "# 1.출력하기\n",
        "- print()는 값을 출력해주는 함수\n",
        "- 입력한 메시지나 값을 출력\n",
        "- 문자나 숫자 등을 출력\n",
        "- 쉼표(,)로 여러 값을 출력\n",
        "- 괄호(()) 안의 값을 출력"
      ]
    },
    {
      "cell_type": "code",
      "metadata": {
        "id": "ndHxi1f2XGZD",
        "colab_type": "code",
        "outputId": "d2afeda8-16c2-45d4-9eb5-c5c45a817ac8",
        "colab": {
          "base_uri": "https://localhost:8080/",
          "height": 34
        }
      },
      "source": [
        "print(\"hello world\")"
      ],
      "execution_count": 0,
      "outputs": [
        {
          "output_type": "stream",
          "text": [
            "hello world\n"
          ],
          "name": "stdout"
        }
      ]
    },
    {
      "cell_type": "code",
      "metadata": {
        "id": "QzRCFGyTXGos",
        "colab_type": "code",
        "outputId": "cda74edb-ca31-464b-9e97-f99d172c33e9",
        "colab": {
          "base_uri": "https://localhost:8080/",
          "height": 140
        }
      },
      "source": [
        "print(1)\n",
        "print(\"1\")\n",
        "print(1, 2, 3)\n",
        "print(1,2,3)\n",
        "print(123)\n",
        "print('python')\n",
        "print('My name is', 'Bob')"
      ],
      "execution_count": 0,
      "outputs": [
        {
          "output_type": "stream",
          "text": [
            "1\n",
            "1\n",
            "1 2 3\n",
            "1 2 3\n",
            "123\n",
            "python\n",
            "My name is Bob\n"
          ],
          "name": "stdout"
        }
      ]
    },
    {
      "cell_type": "markdown",
      "metadata": {
        "id": "xKlWq85HYVEw",
        "colab_type": "text"
      },
      "source": [
        "# 2.입력하기\n",
        "- 사용자의 입력을 받습니다.\n",
        "- 입력 값은 항상 문자열로 받아옵니다.\n",
        "- 프로그램에게 정보를 전달할 수 있습니다.\n",
        "- 입력 받은 값을 변수에 저장할 수 있습니다."
      ]
    },
    {
      "cell_type": "code",
      "metadata": {
        "id": "JHi5HtGcZqBG",
        "colab_type": "code",
        "outputId": "b10cdd3e-be0c-412d-fc7b-46171c992268",
        "colab": {
          "base_uri": "https://localhost:8080/",
          "height": 34
        }
      },
      "source": [
        "name = input('What is your name?')"
      ],
      "execution_count": 0,
      "outputs": [
        {
          "output_type": "stream",
          "text": [
            "'What is your name?'정수\n"
          ],
          "name": "stdout"
        }
      ]
    },
    {
      "cell_type": "markdown",
      "metadata": {
        "id": "QIKKwkyAZ_lq",
        "colab_type": "text"
      },
      "source": [
        "# 3.변수\n",
        "- 변수 : 값을 담는 그릇\n",
        "- 할당연산자 : 변수에 값을 할당하는 연산을 의미하는 기호\n",
        "- 대표적인 할당연산자는 바로 '='이고, 그 외에 다양한 할당연산자 존재"
      ]
    },
    {
      "cell_type": "code",
      "metadata": {
        "id": "uX035n_2b6ku",
        "colab_type": "code",
        "outputId": "a872f055-b718-454d-d829-5af669ecabcf",
        "colab": {
          "base_uri": "https://localhost:8080/",
          "height": 70
        }
      },
      "source": [
        "a = 6        # = 오른쪽에 있는 정수 6을 = 왼쪽의 변수 a에 할당\n",
        "b = 2        # = 오른쪽에 있는 정수 2를 = 왼쪽의 변수 b에 할당\n",
        "print(a)\n",
        "print(b)\n",
        "name = \"tom\"\n",
        "print(name)"
      ],
      "execution_count": 0,
      "outputs": [
        {
          "output_type": "stream",
          "text": [
            "6\n",
            "2\n",
            "tom\n"
          ],
          "name": "stdout"
        }
      ]
    },
    {
      "cell_type": "markdown",
      "metadata": {
        "id": "3PoNicRqcMxu",
        "colab_type": "text"
      },
      "source": [
        "# 4.데이터 타입\n",
        "- 정수와 실수 그리고 문자열로 구분된다.(이외에도 몇가지 더 있다.)\n",
        "\n",
        "정수와 실수의 구분은 메모리 사용과 관련되어 있다.\n",
        "\n",
        "각각 int, float라 부른다. integer의 약자. 소수점이 떠 다닌다 해서 floating.\n",
        "\n",
        "\n",
        "\n",
        "그리고 문자열은 단순 값 1개가 아니라 여러개의 값들로 처리하는 내부적인 처리방식 때문에 별개로 처리한다.\n",
        "\n",
        "문자열은 string이라 불린다. 각 문자들의 연결이라는 의미이다."
      ]
    },
    {
      "cell_type": "markdown",
      "metadata": {
        "id": "FzjuuScLgaI2",
        "colab_type": "text"
      },
      "source": [
        "## (1) 숫자형(Numeric)\n",
        "- 숫자로 이루어진 자료형\n",
        "- int : 정수이며 integer의 약자\n",
        "- float : 실수며 floating의 약자\n",
        "- 숫자끼리 연산 가능\n"
      ]
    },
    {
      "cell_type": "code",
      "metadata": {
        "id": "oeoAUApfgjBd",
        "colab_type": "code",
        "outputId": "a2ad8062-3fd1-4214-df38-76e55222ca44",
        "colab": {
          "base_uri": "https://localhost:8080/",
          "height": 34
        }
      },
      "source": [
        "my_int1 = 1\n",
        "my_int2 = -2\n",
        "my_int3 = 4096\n",
        "print(my_int1, my_int2, my_int3)"
      ],
      "execution_count": 0,
      "outputs": [
        {
          "output_type": "stream",
          "text": [
            "1 -2 4096\n"
          ],
          "name": "stdout"
        }
      ]
    },
    {
      "cell_type": "code",
      "metadata": {
        "id": "XuSRkINZkfkO",
        "colab_type": "code",
        "outputId": "249eee98-7cd9-458f-c7c0-fbf11630aeab",
        "colab": {
          "base_uri": "https://localhost:8080/",
          "height": 34
        }
      },
      "source": [
        "my_float1 = 1.0\n",
        "my_float2 = -2.0\n",
        "my_float3 = 3.14\n",
        "print(my_float1, my_float2, my_float3)"
      ],
      "execution_count": 0,
      "outputs": [
        {
          "output_type": "stream",
          "text": [
            "1.0 -2.0 3.14\n"
          ],
          "name": "stdout"
        }
      ]
    },
    {
      "cell_type": "markdown",
      "metadata": {
        "id": "H5M8zfrZ8dKM",
        "colab_type": "text"
      },
      "source": [
        ""
      ]
    },
    {
      "cell_type": "markdown",
      "metadata": {
        "id": "C7epS1KUk10x",
        "colab_type": "text"
      },
      "source": [
        "### 1) 산술 연산자 \n",
        "- 일반적으로 사칙연산을 수행할 때 사용\n",
        "- '+', '-', '', '/', '//', '*', '%' 등 다양한 산술연산자가 존재"
      ]
    },
    {
      "cell_type": "code",
      "metadata": {
        "id": "XpiUSIiClDDB",
        "colab_type": "code",
        "outputId": "74adcfa6-bcc8-4843-9a83-e64ceeccf9b6",
        "colab": {
          "base_uri": "https://localhost:8080/",
          "height": 122
        }
      },
      "source": [
        "print(6 + 2) # print(6 + 2) = print(8)\n",
        "print(6 * 2) # print(6 * 2) = print(12)\n",
        "print(6 / 4) # print(6 / 2) = print(3.0) : 정수를 나누면 실수\n",
        "print(6 // 4)# print(6 //2) = print(3)   : 나누고 소수를 버림\n",
        "print(6 ** 2)# print(6 **2) = print(6^2) = print(36)\n",
        "print(6 % 2) # print(6 % 2) = print(6을 2로 나눈 나머지) = print(0)"
      ],
      "execution_count": 0,
      "outputs": [
        {
          "output_type": "stream",
          "text": [
            "8\n",
            "12\n",
            "1.5\n",
            "1\n",
            "36\n",
            "0\n"
          ],
          "name": "stdout"
        }
      ]
    },
    {
      "cell_type": "markdown",
      "metadata": {
        "id": "gBM-syI0lS1k",
        "colab_type": "text"
      },
      "source": [
        "## (2) 문자열(string)\n",
        "- 문자나 문자들을 늘어놓은 것입니다.\n",
        "- 큰따옴표와 작은따옴표로 구분합니다.\n",
        "- 리스트와 함께 시퀀스 자료형입니다.\n",
        "- 작은따옴표(' ') 또는 큰따옴표(\" \")로 구분합니다."
      ]
    },
    {
      "cell_type": "code",
      "metadata": {
        "id": "cppLr4P1n11t",
        "colab_type": "code",
        "outputId": "f33f10ce-1ca8-4923-ee52-51fcb1c69b4b",
        "colab": {
          "base_uri": "https://localhost:8080/",
          "height": 87
        }
      },
      "source": [
        "my_str1 = 'a'\n",
        "my_str2 = '3.14'\n",
        "my_str3 = 'coding'\n",
        "my_str4 = \"coding\"\n",
        "print(my_str1)\n",
        "print(my_str2)\n",
        "print(my_str3)\n",
        "print(my_str4)"
      ],
      "execution_count": 0,
      "outputs": [
        {
          "output_type": "stream",
          "text": [
            "a\n",
            "3.14\n",
            "coding\n",
            "coding\n"
          ],
          "name": "stdout"
        }
      ]
    },
    {
      "cell_type": "markdown",
      "metadata": {
        "id": "eAyHzljepPDz",
        "colab_type": "text"
      },
      "source": [
        "### 1) 문자열 연산자\n",
        "- 문자열에도 연산자가 있다\n",
        "- ```+ : 문자끼리 연결 ```\n",
        "- ``` * : 문자열을 해당 수만큼 반복```"
      ]
    },
    {
      "cell_type": "code",
      "metadata": {
        "id": "J256g0b_pwKB",
        "colab_type": "code",
        "outputId": "5b3e892b-77fd-42fa-d58e-99a2c40e505e",
        "colab": {
          "base_uri": "https://localhost:8080/",
          "height": 34
        }
      },
      "source": [
        "print(\"아이폰\"+\" VS \" + \"갤럭시\")"
      ],
      "execution_count": 0,
      "outputs": [
        {
          "output_type": "stream",
          "text": [
            "아이폰 VS 갤럭시\n"
          ],
          "name": "stdout"
        }
      ]
    },
    {
      "cell_type": "code",
      "metadata": {
        "id": "vdgDqY5bp_YF",
        "colab_type": "code",
        "outputId": "0c004c02-e095-4de0-f7fb-ca358a2c86c7",
        "colab": {
          "base_uri": "https://localhost:8080/",
          "height": 34
        }
      },
      "source": [
        "print(\"안녕\" * 3 )"
      ],
      "execution_count": 0,
      "outputs": [
        {
          "output_type": "stream",
          "text": [
            "안녕안녕안녕\n"
          ],
          "name": "stdout"
        }
      ]
    },
    {
      "cell_type": "markdown",
      "metadata": {
        "id": "sKTMXFnYeO16",
        "colab_type": "text"
      },
      "source": [
        "### 2) 문자열 안에 문자 쓰기\n",
        "큰 따옴표와 작은 따옴표를 번갈아가며 사용하거나, 하나만 사용한다면 백슬래시(\\) 혹은 대한민국 원(Won)화 기호를 사용해야 한다"
      ]
    },
    {
      "cell_type": "code",
      "metadata": {
        "id": "qndqCd9Ndh-M",
        "colab_type": "code",
        "outputId": "ce7cb97a-b980-428a-9e41-9d662bd607d7",
        "colab": {
          "base_uri": "https://localhost:8080/",
          "height": 52
        }
      },
      "source": [
        "a = \"'아이폰' vs '갤럭시'\"\n",
        "print(a) \n",
        "a = '\"파이썬은 매우 쉬운 언어입니다\" 라고 개발자가 말했다'\n",
        "print(a)"
      ],
      "execution_count": 0,
      "outputs": [
        {
          "output_type": "stream",
          "text": [
            "'아이폰' vs '갤럭시'\n",
            "\"파이썬은 매우 쉬운 언어입니다\" 라고 개발자가 말했다\n"
          ],
          "name": "stdout"
        }
      ]
    },
    {
      "cell_type": "markdown",
      "metadata": {
        "id": "LUX9tjWKd7yB",
        "colab_type": "text"
      },
      "source": [
        "**문제1. 백슬래시 \\ 를 사용하여 출력해 보시오**"
      ]
    },
    {
      "cell_type": "code",
      "metadata": {
        "id": "LV8zZkNwfHor",
        "colab_type": "code",
        "outputId": "d9426f10-4255-4b29-fe36-69a68d239c58",
        "colab": {
          "base_uri": "https://localhost:8080/",
          "height": 52
        }
      },
      "source": [
        "a = '\\'아이폰\\' vs \\'갤럭시\\''\n",
        "print(a) \n",
        "a = \"\\\"파이썬은 매우 쉬운 언어입니다\\\" 라고 개발자가 말했다\"\n",
        "print(a)"
      ],
      "execution_count": 0,
      "outputs": [
        {
          "output_type": "stream",
          "text": [
            "'아이폰' vs '갤럭시'\n",
            "\"파이썬은 매우 쉬운 언어입니다\" 라고 개발자가 말했다\n"
          ],
          "name": "stdout"
        }
      ]
    },
    {
      "cell_type": "markdown",
      "metadata": {
        "id": "15oHFRxOncjK",
        "colab_type": "text"
      },
      "source": [
        "## (3) Boolean 타입\n",
        "- True, False의 값을 갖는 데이터 타입\n",
        "-  None, \"\", 0 인 경우에만 False, 이외는 True\n",
        "- 비교연산자, 논리연산자의 결과"
      ]
    },
    {
      "cell_type": "code",
      "metadata": {
        "id": "S6kpCyMbo6rN",
        "colab_type": "code",
        "outputId": "3ab3f12f-1d69-4ba0-c10b-53ad5332a915",
        "colab": {
          "base_uri": "https://localhost:8080/",
          "height": 34
        }
      },
      "source": [
        "print(bool(1))"
      ],
      "execution_count": 0,
      "outputs": [
        {
          "output_type": "stream",
          "text": [
            "True\n"
          ],
          "name": "stdout"
        }
      ]
    },
    {
      "cell_type": "code",
      "metadata": {
        "id": "wadn6eedrVOj",
        "colab_type": "code",
        "outputId": "52d776fe-5afe-4ce0-ade8-a4282f1771ce",
        "colab": {
          "base_uri": "https://localhost:8080/",
          "height": 34
        }
      },
      "source": [
        "print(bool(None))"
      ],
      "execution_count": 0,
      "outputs": [
        {
          "output_type": "stream",
          "text": [
            "False\n"
          ],
          "name": "stdout"
        }
      ]
    },
    {
      "cell_type": "code",
      "metadata": {
        "id": "uwNqYKd-rarz",
        "colab_type": "code",
        "outputId": "ae3f929a-f8d8-49b4-f028-67d5c0244b8d",
        "colab": {
          "base_uri": "https://localhost:8080/",
          "height": 34
        }
      },
      "source": [
        "print(bool(0))"
      ],
      "execution_count": 0,
      "outputs": [
        {
          "output_type": "stream",
          "text": [
            "False\n"
          ],
          "name": "stdout"
        }
      ]
    },
    {
      "cell_type": "code",
      "metadata": {
        "id": "oDQMf1Tjre09",
        "colab_type": "code",
        "outputId": "eafcbac6-ec02-4c49-e6a4-81ee28d431b3",
        "colab": {
          "base_uri": "https://localhost:8080/",
          "height": 34
        }
      },
      "source": [
        "print(bool())"
      ],
      "execution_count": 0,
      "outputs": [
        {
          "output_type": "stream",
          "text": [
            "False\n"
          ],
          "name": "stdout"
        }
      ]
    },
    {
      "cell_type": "code",
      "metadata": {
        "id": "Fe8pJzGQr9HK",
        "colab_type": "code",
        "outputId": "703a26d5-85ca-491d-e251-a65cde8d1dd7",
        "colab": {
          "base_uri": "https://localhost:8080/",
          "height": 34
        }
      },
      "source": [
        "print(bool(\"\"))"
      ],
      "execution_count": 0,
      "outputs": [
        {
          "output_type": "stream",
          "text": [
            "False\n"
          ],
          "name": "stdout"
        }
      ]
    },
    {
      "cell_type": "code",
      "metadata": {
        "id": "MHXInW7or_z8",
        "colab_type": "code",
        "outputId": "a5f3e9e3-d826-4cba-96c3-0ef18846e28e",
        "colab": {
          "base_uri": "https://localhost:8080/",
          "height": 34
        }
      },
      "source": [
        "print(bool(''))"
      ],
      "execution_count": 0,
      "outputs": [
        {
          "output_type": "stream",
          "text": [
            "False\n"
          ],
          "name": "stdout"
        }
      ]
    },
    {
      "cell_type": "markdown",
      "metadata": {
        "id": "1XEJ8DBysCJh",
        "colab_type": "text"
      },
      "source": [
        "# 5.타입 확인\n",
        "- type이란 함수로 데이터의 타입을 확인할 수 있다"
      ]
    },
    {
      "cell_type": "code",
      "metadata": {
        "id": "Y45ivlddtBkS",
        "colab_type": "code",
        "outputId": "c7db52e0-d028-48e3-9ab0-0f0fe91b8a60",
        "colab": {
          "base_uri": "https://localhost:8080/",
          "height": 34
        }
      },
      "source": [
        "print(type(3))"
      ],
      "execution_count": 0,
      "outputs": [
        {
          "output_type": "stream",
          "text": [
            "<class 'int'>\n"
          ],
          "name": "stdout"
        }
      ]
    },
    {
      "cell_type": "code",
      "metadata": {
        "id": "fD10WiQXtLAO",
        "colab_type": "code",
        "outputId": "8921f0f5-412b-42bf-fe5d-b3b39020205d",
        "colab": {
          "base_uri": "https://localhost:8080/",
          "height": 34
        }
      },
      "source": [
        "print(type(3.2))"
      ],
      "execution_count": 0,
      "outputs": [
        {
          "output_type": "stream",
          "text": [
            "<class 'float'>\n"
          ],
          "name": "stdout"
        }
      ]
    },
    {
      "cell_type": "code",
      "metadata": {
        "id": "s_dpmcTBtMrc",
        "colab_type": "code",
        "outputId": "d5e8840c-3f81-47bd-8913-6df94c7a227a",
        "colab": {
          "base_uri": "https://localhost:8080/",
          "height": 34
        }
      },
      "source": [
        "print(type(\"tom\"))"
      ],
      "execution_count": 0,
      "outputs": [
        {
          "output_type": "stream",
          "text": [
            "<class 'str'>\n"
          ],
          "name": "stdout"
        }
      ]
    },
    {
      "cell_type": "code",
      "metadata": {
        "id": "dCckQzZntPKJ",
        "colab_type": "code",
        "outputId": "4422fc9e-c5d4-4a45-f5aa-6a959605d7c2",
        "colab": {
          "base_uri": "https://localhost:8080/",
          "height": 34
        }
      },
      "source": [
        "print(type(True))"
      ],
      "execution_count": 0,
      "outputs": [
        {
          "output_type": "stream",
          "text": [
            "<class 'bool'>\n"
          ],
          "name": "stdout"
        }
      ]
    },
    {
      "cell_type": "markdown",
      "metadata": {
        "id": "eomwKPU5tS4z",
        "colab_type": "text"
      },
      "source": [
        "# 6.데이터 타입 변환\n",
        "- int() : int 타입으로\n",
        "- float() : float 타입으로\n",
        "- str() : string 타입으로\n",
        "- bool() : boolean 타입으로"
      ]
    },
    {
      "cell_type": "markdown",
      "metadata": {
        "id": "MfTW3DPCtVRf",
        "colab_type": "text"
      },
      "source": [
        "## (1) int() : 정수형으로 변환\n",
        "- 소수점 아래 버림"
      ]
    },
    {
      "cell_type": "code",
      "metadata": {
        "id": "R-TvE7BfyFEy",
        "colab_type": "code",
        "outputId": "f869701b-e085-4585-cbc4-84925a9e5944",
        "colab": {
          "base_uri": "https://localhost:8080/",
          "height": 34
        }
      },
      "source": [
        "print(5.3)"
      ],
      "execution_count": 0,
      "outputs": [
        {
          "output_type": "stream",
          "text": [
            "5.3\n"
          ],
          "name": "stdout"
        }
      ]
    },
    {
      "cell_type": "code",
      "metadata": {
        "id": "_5faSYFEyG5u",
        "colab_type": "code",
        "outputId": "21979fbc-7a7b-4a30-af2d-984e97a9ad01",
        "colab": {
          "base_uri": "https://localhost:8080/",
          "height": 34
        }
      },
      "source": [
        "print(int(5.3))"
      ],
      "execution_count": 0,
      "outputs": [
        {
          "output_type": "stream",
          "text": [
            "5\n"
          ],
          "name": "stdout"
        }
      ]
    },
    {
      "cell_type": "code",
      "metadata": {
        "id": "FnV-z21ryIgO",
        "colab_type": "code",
        "outputId": "5d215b01-0e4f-4ce8-9c33-bd4c36cc4520",
        "colab": {
          "base_uri": "https://localhost:8080/",
          "height": 34
        }
      },
      "source": [
        "print(int(5.7))"
      ],
      "execution_count": 0,
      "outputs": [
        {
          "output_type": "stream",
          "text": [
            "5\n"
          ],
          "name": "stdout"
        }
      ]
    },
    {
      "cell_type": "code",
      "metadata": {
        "id": "mrQP3-5xyKUm",
        "colab_type": "code",
        "outputId": "626234dc-6aac-43e8-e83a-e986ba4716a9",
        "colab": {
          "base_uri": "https://localhost:8080/",
          "height": 34
        }
      },
      "source": [
        "print(int(\"5\"))"
      ],
      "execution_count": 0,
      "outputs": [
        {
          "output_type": "stream",
          "text": [
            "5\n"
          ],
          "name": "stdout"
        }
      ]
    },
    {
      "cell_type": "code",
      "metadata": {
        "id": "9qstUGySybJO",
        "colab_type": "code",
        "outputId": "b1bf83ad-9e73-4a09-b40b-cdd8e073de67",
        "colab": {
          "base_uri": "https://localhost:8080/",
          "height": 169
        }
      },
      "source": [
        "print(int(\"5.3\"))"
      ],
      "execution_count": 0,
      "outputs": [
        {
          "output_type": "error",
          "ename": "ValueError",
          "evalue": "ignored",
          "traceback": [
            "\u001b[0;31m---------------------------------------------------------------------------\u001b[0m",
            "\u001b[0;31mValueError\u001b[0m                                Traceback (most recent call last)",
            "\u001b[0;32m<ipython-input-51-af4bbed288b1>\u001b[0m in \u001b[0;36m<module>\u001b[0;34m()\u001b[0m\n\u001b[0;32m----> 1\u001b[0;31m \u001b[0mprint\u001b[0m\u001b[0;34m(\u001b[0m\u001b[0mint\u001b[0m\u001b[0;34m(\u001b[0m\u001b[0;34m\"5.3\"\u001b[0m\u001b[0;34m)\u001b[0m\u001b[0;34m)\u001b[0m\u001b[0;34m\u001b[0m\u001b[0;34m\u001b[0m\u001b[0m\n\u001b[0m",
            "\u001b[0;31mValueError\u001b[0m: invalid literal for int() with base 10: '5.3'"
          ]
        }
      ]
    },
    {
      "cell_type": "code",
      "metadata": {
        "id": "6e2m-sZSygDQ",
        "colab_type": "code",
        "outputId": "d0c79a10-be0c-4c53-926f-80bb8fec3463",
        "colab": {
          "base_uri": "https://localhost:8080/",
          "height": 34
        }
      },
      "source": [
        "print(int(float(\"5.3\")))"
      ],
      "execution_count": 0,
      "outputs": [
        {
          "output_type": "stream",
          "text": [
            "5\n"
          ],
          "name": "stdout"
        }
      ]
    },
    {
      "cell_type": "code",
      "metadata": {
        "id": "qPvcR47Eyidv",
        "colab_type": "code",
        "outputId": "5f7b47e6-b5b4-49b0-a3fb-6227dcd1165a",
        "colab": {
          "base_uri": "https://localhost:8080/",
          "height": 169
        }
      },
      "source": [
        "print(int(\"tom\"))"
      ],
      "execution_count": 0,
      "outputs": [
        {
          "output_type": "error",
          "ename": "ValueError",
          "evalue": "ignored",
          "traceback": [
            "\u001b[0;31m---------------------------------------------------------------------------\u001b[0m",
            "\u001b[0;31mValueError\u001b[0m                                Traceback (most recent call last)",
            "\u001b[0;32m<ipython-input-54-9999c5e4166f>\u001b[0m in \u001b[0;36m<module>\u001b[0;34m()\u001b[0m\n\u001b[0;32m----> 1\u001b[0;31m \u001b[0mprint\u001b[0m\u001b[0;34m(\u001b[0m\u001b[0mint\u001b[0m\u001b[0;34m(\u001b[0m\u001b[0;34m\"tom\"\u001b[0m\u001b[0;34m)\u001b[0m\u001b[0;34m)\u001b[0m\u001b[0;34m\u001b[0m\u001b[0;34m\u001b[0m\u001b[0m\n\u001b[0m",
            "\u001b[0;31mValueError\u001b[0m: invalid literal for int() with base 10: 'tom'"
          ]
        }
      ]
    },
    {
      "cell_type": "code",
      "metadata": {
        "id": "-7FnhM2GzEEf",
        "colab_type": "code",
        "colab": {}
      },
      "source": [
        ""
      ],
      "execution_count": 0,
      "outputs": []
    },
    {
      "cell_type": "code",
      "metadata": {
        "id": "X25R5HkByoVq",
        "colab_type": "code",
        "outputId": "10a6a126-59dd-49d3-dbe2-d6cd9214d15d",
        "colab": {
          "base_uri": "https://localhost:8080/",
          "height": 34
        }
      },
      "source": [
        "print(int(True))"
      ],
      "execution_count": 0,
      "outputs": [
        {
          "output_type": "stream",
          "text": [
            "1\n"
          ],
          "name": "stdout"
        }
      ]
    },
    {
      "cell_type": "code",
      "metadata": {
        "id": "USuMbS8Wy3qF",
        "colab_type": "code",
        "outputId": "01bd2ba4-bcc3-41bb-d225-0dbe9705e709",
        "colab": {
          "base_uri": "https://localhost:8080/",
          "height": 34
        }
      },
      "source": [
        "print(int(False))"
      ],
      "execution_count": 0,
      "outputs": [
        {
          "output_type": "stream",
          "text": [
            "0\n"
          ],
          "name": "stdout"
        }
      ]
    },
    {
      "cell_type": "markdown",
      "metadata": {
        "id": "wCVNEJxVy6ao",
        "colab_type": "text"
      },
      "source": [
        "## (2) float() : 실수형으로 변환"
      ]
    },
    {
      "cell_type": "code",
      "metadata": {
        "id": "hf-JxltSzBbP",
        "colab_type": "code",
        "outputId": "7e62ee13-75fc-4e7a-d0c0-c2971c4274f1",
        "colab": {
          "base_uri": "https://localhost:8080/",
          "height": 34
        }
      },
      "source": [
        "print(float(3))"
      ],
      "execution_count": 0,
      "outputs": [
        {
          "output_type": "stream",
          "text": [
            "3.0\n"
          ],
          "name": "stdout"
        }
      ]
    },
    {
      "cell_type": "code",
      "metadata": {
        "id": "39jBTUXT1HuT",
        "colab_type": "code",
        "outputId": "f4ca65b5-2a0c-43b3-e0ac-d55e1979dfe3",
        "colab": {
          "base_uri": "https://localhost:8080/",
          "height": 34
        }
      },
      "source": [
        "print(float(\"3\"))"
      ],
      "execution_count": 0,
      "outputs": [
        {
          "output_type": "stream",
          "text": [
            "3.0\n"
          ],
          "name": "stdout"
        }
      ]
    },
    {
      "cell_type": "code",
      "metadata": {
        "id": "ceDdfYGj1KTl",
        "colab_type": "code",
        "outputId": "419336f0-c2b4-4f5c-fade-364d5b90ba20",
        "colab": {
          "base_uri": "https://localhost:8080/",
          "height": 34
        }
      },
      "source": [
        "print(float(\"3.3\"))"
      ],
      "execution_count": 0,
      "outputs": [
        {
          "output_type": "stream",
          "text": [
            "3.3\n"
          ],
          "name": "stdout"
        }
      ]
    },
    {
      "cell_type": "code",
      "metadata": {
        "id": "KiwPECk21MxB",
        "colab_type": "code",
        "outputId": "16bbe4fe-2819-4c3f-cd37-a2545d1ec11a",
        "colab": {
          "base_uri": "https://localhost:8080/",
          "height": 34
        }
      },
      "source": [
        "print(float(True))"
      ],
      "execution_count": 0,
      "outputs": [
        {
          "output_type": "stream",
          "text": [
            "1.0\n"
          ],
          "name": "stdout"
        }
      ]
    },
    {
      "cell_type": "code",
      "metadata": {
        "id": "7zpanywa1Xk6",
        "colab_type": "code",
        "outputId": "d3f1be6a-9c84-453a-f617-d56ec071dc5f",
        "colab": {
          "base_uri": "https://localhost:8080/",
          "height": 34
        }
      },
      "source": [
        "print(float(False))"
      ],
      "execution_count": 0,
      "outputs": [
        {
          "output_type": "stream",
          "text": [
            "0.0\n"
          ],
          "name": "stdout"
        }
      ]
    },
    {
      "cell_type": "markdown",
      "metadata": {
        "id": "r-hDb02c1ZV1",
        "colab_type": "text"
      },
      "source": [
        "## (3) str() : 문자열로 변환"
      ]
    },
    {
      "cell_type": "code",
      "metadata": {
        "id": "6p9G8mCo1x-Z",
        "colab_type": "code",
        "outputId": "c36816e0-c894-43ee-e8d7-038bbee5a094",
        "colab": {
          "base_uri": "https://localhost:8080/",
          "height": 52
        }
      },
      "source": [
        "print(str(3.0))\n",
        "print(type(str(3.0)))"
      ],
      "execution_count": 0,
      "outputs": [
        {
          "output_type": "stream",
          "text": [
            "3.0\n",
            "<class 'str'>\n"
          ],
          "name": "stdout"
        }
      ]
    },
    {
      "cell_type": "markdown",
      "metadata": {
        "id": "we1mipHZ14NC",
        "colab_type": "text"
      },
      "source": [
        "**문제2. 문자와 숫자 더하기**\n",
        "- 다음을 더하여 원하는 결과를 출력해 보시오\n",
        "- print(\"3\" + 2) # 결과 : 5"
      ]
    },
    {
      "cell_type": "code",
      "metadata": {
        "id": "t8Srkctl2FkQ",
        "colab_type": "code",
        "outputId": "d1406ab6-6013-417d-bba2-5dd0ff8777f1",
        "colab": {
          "base_uri": "https://localhost:8080/",
          "height": 169
        }
      },
      "source": [
        "print(\"3\"+2)"
      ],
      "execution_count": 0,
      "outputs": [
        {
          "output_type": "error",
          "ename": "TypeError",
          "evalue": "ignored",
          "traceback": [
            "\u001b[0;31m---------------------------------------------------------------------------\u001b[0m",
            "\u001b[0;31mTypeError\u001b[0m                                 Traceback (most recent call last)",
            "\u001b[0;32m<ipython-input-67-bc7ee3a973c7>\u001b[0m in \u001b[0;36m<module>\u001b[0;34m()\u001b[0m\n\u001b[0;32m----> 1\u001b[0;31m \u001b[0mprint\u001b[0m\u001b[0;34m(\u001b[0m\u001b[0;34m\"3\"\u001b[0m\u001b[0;34m+\u001b[0m\u001b[0;36m2\u001b[0m\u001b[0;34m)\u001b[0m\u001b[0;34m\u001b[0m\u001b[0;34m\u001b[0m\u001b[0m\n\u001b[0m",
            "\u001b[0;31mTypeError\u001b[0m: must be str, not int"
          ]
        }
      ]
    },
    {
      "cell_type": "code",
      "metadata": {
        "id": "Wd-Tydfb2V0j",
        "colab_type": "code",
        "outputId": "6c2e2638-9111-4fae-9df5-000d23a6c5e6",
        "colab": {
          "base_uri": "https://localhost:8080/",
          "height": 34
        }
      },
      "source": [
        "print(int(\"3\")+2)"
      ],
      "execution_count": 0,
      "outputs": [
        {
          "output_type": "stream",
          "text": [
            "5\n"
          ],
          "name": "stdout"
        }
      ]
    },
    {
      "cell_type": "markdown",
      "metadata": {
        "id": "bqy_oYss2aX9",
        "colab_type": "text"
      },
      "source": [
        "## (4) 반올림 변환 등\n",
        "- int() : 소수점 아래를 버린다. truc()와 동일\n",
        "- round() : 가장 가까운 정수로\n",
        "- math.floor() : 원 값보다 작은 정수로\n",
        "- math.ceil() : 원 값보다 큰 정수로\n",
        "- math.truc() : 소수점 아래를 버린다."
      ]
    },
    {
      "cell_type": "code",
      "metadata": {
        "id": "0Ohy_jHX2zC4",
        "colab_type": "code",
        "colab": {}
      },
      "source": [
        "import math"
      ],
      "execution_count": 0,
      "outputs": []
    },
    {
      "cell_type": "code",
      "metadata": {
        "id": "DQhQXwp2284j",
        "colab_type": "code",
        "outputId": "064b42db-9385-4c4a-b519-f8b02bea85e7",
        "colab": {
          "base_uri": "https://localhost:8080/",
          "height": 87
        }
      },
      "source": [
        "print(round(3.1))\n",
        "print(round(3.9))\n",
        "print(round(-3.1))\n",
        "print(round(-3.9))"
      ],
      "execution_count": 0,
      "outputs": [
        {
          "output_type": "stream",
          "text": [
            "3\n",
            "4\n",
            "-3\n",
            "-4\n"
          ],
          "name": "stdout"
        }
      ]
    },
    {
      "cell_type": "code",
      "metadata": {
        "id": "hsjfQamE3S7J",
        "colab_type": "code",
        "outputId": "62a4cfd2-893b-4dbd-9db2-3ba0bec885a1",
        "colab": {
          "base_uri": "https://localhost:8080/",
          "height": 87
        }
      },
      "source": [
        "print(math.floor(3.1))\n",
        "print(math.floor(3.9))\n",
        "print(math.floor(-3.1))\n",
        "print(math.floor(-3.9))"
      ],
      "execution_count": 0,
      "outputs": [
        {
          "output_type": "stream",
          "text": [
            "3\n",
            "3\n",
            "-4\n",
            "-4\n"
          ],
          "name": "stdout"
        }
      ]
    },
    {
      "cell_type": "code",
      "metadata": {
        "id": "b1_MjyVk3ajD",
        "colab_type": "code",
        "outputId": "99de8bc5-5bfb-4594-f4be-69d0422009f5",
        "colab": {
          "base_uri": "https://localhost:8080/",
          "height": 87
        }
      },
      "source": [
        "print(math.ceil(3.1))\n",
        "print(math.ceil(3.9))\n",
        "print(math.ceil(-3.1))\n",
        "print(math.ceil(-3.9))"
      ],
      "execution_count": 0,
      "outputs": [
        {
          "output_type": "stream",
          "text": [
            "4\n",
            "4\n",
            "-3\n",
            "-3\n"
          ],
          "name": "stdout"
        }
      ]
    },
    {
      "cell_type": "code",
      "metadata": {
        "id": "ASofzC1y3d2m",
        "colab_type": "code",
        "outputId": "76722b26-6709-4e36-a07d-800e2e9cfd53",
        "colab": {
          "base_uri": "https://localhost:8080/",
          "height": 87
        }
      },
      "source": [
        "print(math.trunc(3.1))\n",
        "print(math.trunc(3.9))\n",
        "print(math.trunc(-3.1))\n",
        "print(math.trunc(-3.9))"
      ],
      "execution_count": 0,
      "outputs": [
        {
          "output_type": "stream",
          "text": [
            "3\n",
            "3\n",
            "-3\n",
            "-3\n"
          ],
          "name": "stdout"
        }
      ]
    },
    {
      "cell_type": "markdown",
      "metadata": {
        "id": "37c9vSUH3fnl",
        "colab_type": "text"
      },
      "source": [
        "# 7.사용자 입력 심화 "
      ]
    },
    {
      "cell_type": "markdown",
      "metadata": {
        "id": "ZQyYxHOnCOUt",
        "colab_type": "text"
      },
      "source": [
        "## (1) 문자열 입력"
      ]
    },
    {
      "cell_type": "code",
      "metadata": {
        "id": "TFYFkbpx4LQ0",
        "colab_type": "code",
        "outputId": "6f6d3e8e-0c06-481c-c3ef-ff7a972c0cf1",
        "colab": {
          "base_uri": "https://localhost:8080/",
          "height": 52
        }
      },
      "source": [
        "name = input(\"이름 : \")\n",
        "print(name, \"입니다.\")"
      ],
      "execution_count": 0,
      "outputs": [
        {
          "output_type": "stream",
          "text": [
            "이름 : 김정수\n",
            "김정수 입니다.\n"
          ],
          "name": "stdout"
        }
      ]
    },
    {
      "cell_type": "markdown",
      "metadata": {
        "id": "XEWoiZQ_4Bkl",
        "colab_type": "text"
      },
      "source": [
        "**문제3. 나의 이름이름과 나이를 입력하여 나를 소개하는 다음과 같은 문장을 출력해 보자**\n",
        "- 나의 이름은 김정수 입니다. 나이는 00살 입니다."
      ]
    },
    {
      "cell_type": "code",
      "metadata": {
        "id": "oYV6ZiUD4k7F",
        "colab_type": "code",
        "outputId": "43e647f9-0c81-40ea-d1dd-c1a942911a86",
        "colab": {
          "base_uri": "https://localhost:8080/",
          "height": 70
        }
      },
      "source": [
        "name = input(\"이름 : \")\n",
        "age = input(\"나이 : \")\n",
        "print(\"나의 이름은\", name, \"입니다. 나이는\", age + \"살 입니다.\")"
      ],
      "execution_count": 0,
      "outputs": [
        {
          "output_type": "stream",
          "text": [
            "이름 : 김정수\n",
            "나이 : 33\n",
            "나의 이름은 김정수 입니다. 나이는 33살 입니다.\n"
          ],
          "name": "stdout"
        }
      ]
    },
    {
      "cell_type": "code",
      "metadata": {
        "id": "4c8Zn01y5EBK",
        "colab_type": "code",
        "outputId": "45ad4472-25fa-475b-b96f-dc5515c1e7d9",
        "colab": {
          "base_uri": "https://localhost:8080/",
          "height": 70
        }
      },
      "source": [
        "name = input(\"이름 : \")\n",
        "age = input(\"나이 : \")\n",
        "print(\"나의 이름은\", name, \"입니다. 나이는\", age , \"살 입니다.\")"
      ],
      "execution_count": 0,
      "outputs": [
        {
          "output_type": "stream",
          "text": [
            "이름 : 김정수\n",
            "나이 : 33\n",
            "나의 이름은 김정수 입니다. 나이는 33 살 입니다.\n"
          ],
          "name": "stdout"
        }
      ]
    },
    {
      "cell_type": "markdown",
      "metadata": {
        "id": "Xx0gaDHM5Wjc",
        "colab_type": "text"
      },
      "source": [
        "## 숫자형 연산"
      ]
    },
    {
      "cell_type": "markdown",
      "metadata": {
        "id": "fnJPtrwCCUje",
        "colab_type": "text"
      },
      "source": [
        "**문제4. 입력한 값의 4배의 숫자를 출력하시요**"
      ]
    },
    {
      "cell_type": "code",
      "metadata": {
        "id": "XWNjDT4qCuOs",
        "colab_type": "code",
        "outputId": "624dd017-a905-4333-e5f7-e0526f5da093",
        "colab": {
          "base_uri": "https://localhost:8080/",
          "height": 52
        }
      },
      "source": [
        "i = input()\n",
        "print(int(i)*4)"
      ],
      "execution_count": 0,
      "outputs": [
        {
          "output_type": "stream",
          "text": [
            "5\n",
            "25\n"
          ],
          "name": "stdout"
        }
      ]
    },
    {
      "cell_type": "code",
      "metadata": {
        "id": "vmmnnHI2Czpw",
        "colab_type": "code",
        "outputId": "09856ec3-6b58-4c00-f7b8-a5ecf60903cc",
        "colab": {
          "base_uri": "https://localhost:8080/",
          "height": 52
        }
      },
      "source": [
        "print(int(input())*4)"
      ],
      "execution_count": 0,
      "outputs": [
        {
          "output_type": "stream",
          "text": [
            "5\n",
            "25\n"
          ],
          "name": "stdout"
        }
      ]
    },
    {
      "cell_type": "markdown",
      "metadata": {
        "id": "m8lV5sl_C5U4",
        "colab_type": "text"
      },
      "source": [
        "**문제5. 입력한 값을 4로 나눈 숫자를 출력하시오**"
      ]
    },
    {
      "cell_type": "code",
      "metadata": {
        "id": "EecTOIyjDfGe",
        "colab_type": "code",
        "outputId": "b49cd9d3-a8f0-457a-a004-d6678a438b03",
        "colab": {
          "base_uri": "https://localhost:8080/",
          "height": 52
        }
      },
      "source": [
        "i = input()\n",
        "i = int(i)\n",
        "print(i/4)"
      ],
      "execution_count": 0,
      "outputs": [
        {
          "output_type": "stream",
          "text": [
            "5\n",
            "2.5\n"
          ],
          "name": "stdout"
        }
      ]
    },
    {
      "cell_type": "markdown",
      "metadata": {
        "id": "nfRxhAySDjKJ",
        "colab_type": "text"
      },
      "source": [
        "**문제6. 입력한 값을 4로 나눈 나머지를 출력하시오**"
      ]
    },
    {
      "cell_type": "code",
      "metadata": {
        "id": "QqAEl_YVEhsH",
        "colab_type": "code",
        "outputId": "565c7d62-3513-4876-bdeb-81b7da2d25ec",
        "colab": {
          "base_uri": "https://localhost:8080/",
          "height": 52
        }
      },
      "source": [
        "i = int(input())\n",
        "div = int(i/4)\n",
        "mod = i - (div * 4)\n",
        "print(\"나머지는\" , mod , \"입니다\")"
      ],
      "execution_count": 0,
      "outputs": [
        {
          "output_type": "stream",
          "text": [
            "2\n",
            "나머지는 2 입니다\n"
          ],
          "name": "stdout"
        }
      ]
    },
    {
      "cell_type": "code",
      "metadata": {
        "id": "y1ghCs78Euhs",
        "colab_type": "code",
        "outputId": "35a2909d-e826-4f95-92fa-2ea7223d9bf5",
        "colab": {
          "base_uri": "https://localhost:8080/",
          "height": 222
        }
      },
      "source": [
        "i = int(input())\n",
        "div = int(i/4)\n",
        "mod = i - (div * 4)\n",
        "print(\"나머지는\" + mod + \"입니다\")"
      ],
      "execution_count": 0,
      "outputs": [
        {
          "output_type": "stream",
          "text": [
            "22\n"
          ],
          "name": "stdout"
        },
        {
          "output_type": "error",
          "ename": "TypeError",
          "evalue": "ignored",
          "traceback": [
            "\u001b[0;31m---------------------------------------------------------------------------\u001b[0m",
            "\u001b[0;31mTypeError\u001b[0m                                 Traceback (most recent call last)",
            "\u001b[0;32m<ipython-input-93-05428e860d07>\u001b[0m in \u001b[0;36m<module>\u001b[0;34m()\u001b[0m\n\u001b[1;32m      2\u001b[0m \u001b[0mdiv\u001b[0m \u001b[0;34m=\u001b[0m \u001b[0mint\u001b[0m\u001b[0;34m(\u001b[0m\u001b[0mi\u001b[0m\u001b[0;34m/\u001b[0m\u001b[0;36m4\u001b[0m\u001b[0;34m)\u001b[0m\u001b[0;34m\u001b[0m\u001b[0;34m\u001b[0m\u001b[0m\n\u001b[1;32m      3\u001b[0m \u001b[0mmod\u001b[0m \u001b[0;34m=\u001b[0m \u001b[0mi\u001b[0m \u001b[0;34m-\u001b[0m \u001b[0;34m(\u001b[0m\u001b[0mdiv\u001b[0m \u001b[0;34m*\u001b[0m \u001b[0;36m4\u001b[0m\u001b[0;34m)\u001b[0m\u001b[0;34m\u001b[0m\u001b[0;34m\u001b[0m\u001b[0m\n\u001b[0;32m----> 4\u001b[0;31m \u001b[0mprint\u001b[0m\u001b[0;34m(\u001b[0m\u001b[0;34m\"나머지는\"\u001b[0m \u001b[0;34m+\u001b[0m \u001b[0mmod\u001b[0m \u001b[0;34m+\u001b[0m \u001b[0;34m\"입니다\"\u001b[0m\u001b[0;34m)\u001b[0m\u001b[0;34m\u001b[0m\u001b[0;34m\u001b[0m\u001b[0m\n\u001b[0m",
            "\u001b[0;31mTypeError\u001b[0m: must be str, not int"
          ]
        }
      ]
    },
    {
      "cell_type": "markdown",
      "metadata": {
        "id": "WiQCWJxnEvXK",
        "colab_type": "text"
      },
      "source": [
        "**문제7. 입력한 값을 4로 나눈 몫과 나머지를 출력하시오**"
      ]
    },
    {
      "cell_type": "code",
      "metadata": {
        "id": "DxoScaE0FaLC",
        "colab_type": "code",
        "outputId": "dee45aa9-b99f-461c-a0ac-61337610f0ed",
        "colab": {
          "base_uri": "https://localhost:8080/",
          "height": 52
        }
      },
      "source": [
        "i = int(input())\n",
        "div = int(i/4)\n",
        "mod = i - (div*4)\n",
        "print(\"몫:\", div, \"나머지:\",mod)"
      ],
      "execution_count": 0,
      "outputs": [
        {
          "output_type": "stream",
          "text": [
            "22\n",
            "몫: 5 나머지: 2\n"
          ],
          "name": "stdout"
        }
      ]
    },
    {
      "cell_type": "markdown",
      "metadata": {
        "id": "N2rGJ_VpF_Ep",
        "colab_type": "text"
      },
      "source": [
        "**문제8 두개의 입력을 받아 곱한 값과, 다시 4로 나눈 몫과 나머지를 출력하시오**"
      ]
    },
    {
      "cell_type": "code",
      "metadata": {
        "id": "iQKJD3sUF_dQ",
        "colab_type": "code",
        "outputId": "ffb4a126-baa8-416f-93ba-2270db146df5",
        "colab": {
          "base_uri": "https://localhost:8080/",
          "height": 87
        }
      },
      "source": [
        "a = float(input())\n",
        "b = float(input())\n",
        "c = a * b\n",
        "print(\"두 입력의 곱\", c)\n",
        "div = int(c/4)\n",
        "mod = c - (div * 4)\n",
        "print(\"몫:\", div, \"나머지:\",mod)"
      ],
      "execution_count": 0,
      "outputs": [
        {
          "output_type": "stream",
          "text": [
            "22\n",
            "11\n",
            "두 입력의 곱 242.0\n",
            "몫: 60 나머지: 2.0\n"
          ],
          "name": "stdout"
        }
      ]
    },
    {
      "cell_type": "markdown",
      "metadata": {
        "id": "Jul-tDhdJx0I",
        "colab_type": "text"
      },
      "source": [
        "# 8.제어문\n",
        "- 프로그램의 흐름을 바꾸는 역할을 하는 문장들을 제어문이라고한다."
      ]
    },
    {
      "cell_type": "markdown",
      "metadata": {
        "id": "6cGCIP9-KH6b",
        "colab_type": "text"
      },
      "source": [
        "## (1) 조건문 if\n",
        "``` \n",
        "if 조건:\n",
        "    실행할 명령1\n",
        "    실행할 명령2\n",
        "        .\n",
        "        .\n",
        "        .\n",
        "```\n",
        "\n",
        "- 조건이 참인지 거짓인지 판단합니다.\n",
        "- 조건에 따라 처리의 흐름을 바꿉니다.\n",
        "- if 키워드를 사용합니다. if 뒤에는 조건이 오고 조건 뒤에는 : 이 붙어야 한다.\n",
        "  실행 내용은 한칸 들여써야 합니다\n",
        "- 참일 경우 코드블럭을 실행합니다.\n",
        "- 거짓일 경우 코드블럭을 넘어갑니다."
      ]
    },
    {
      "cell_type": "code",
      "metadata": {
        "id": "lBmhEs5OKJNf",
        "colab_type": "code",
        "outputId": "d7d75029-f09e-4912-c8f0-7c17bec78197",
        "colab": {
          "base_uri": "https://localhost:8080/",
          "height": 34
        }
      },
      "source": [
        "temp = 35\n",
        "print(temp)"
      ],
      "execution_count": 0,
      "outputs": [
        {
          "output_type": "stream",
          "text": [
            "35\n"
          ],
          "name": "stdout"
        }
      ]
    },
    {
      "cell_type": "code",
      "metadata": {
        "id": "wkM5KNPgKJdr",
        "colab_type": "code",
        "outputId": "ac0a5764-1e03-4a54-8bc5-a32764c117e7",
        "colab": {
          "base_uri": "https://localhost:8080/",
          "height": 34
        }
      },
      "source": [
        "print(\"더워요. 온도가\",temp,\"도 입니다.\")"
      ],
      "execution_count": 0,
      "outputs": [
        {
          "output_type": "stream",
          "text": [
            "더워요. 온도가 35 도 입니다.\n"
          ],
          "name": "stdout"
        }
      ]
    },
    {
      "cell_type": "code",
      "metadata": {
        "id": "9CkRxlEoKJp_",
        "colab_type": "code",
        "colab": {
          "base_uri": "https://localhost:8080/",
          "height": 35
        },
        "outputId": "cacaad71-0c54-4e53-ad3e-7fd449c70bf4"
      },
      "source": [
        "temp = 20\n",
        "print(\"시원해요. 온도는\", temp, \"입니다.\")"
      ],
      "execution_count": 2,
      "outputs": [
        {
          "output_type": "stream",
          "text": [
            "시원해요. 온도는 20 입니다.\n"
          ],
          "name": "stdout"
        }
      ]
    },
    {
      "cell_type": "code",
      "metadata": {
        "id": "_Vc7bjxvKJx6",
        "colab_type": "code",
        "colab": {
          "base_uri": "https://localhost:8080/",
          "height": 35
        },
        "outputId": "0b1a11a8-3706-4cfc-8191-79cc2fe0b05d"
      },
      "source": [
        "temp = 20\n",
        "\n",
        "if temp>25:\n",
        "   print(\"더워요. 온도는\", temp, \"입니다.\")\n",
        "   print(\"hi\")\n",
        "print(\"hello\")"
      ],
      "execution_count": 3,
      "outputs": [
        {
          "output_type": "stream",
          "text": [
            "hello\n"
          ],
          "name": "stdout"
        }
      ]
    },
    {
      "cell_type": "code",
      "metadata": {
        "id": "GKC18mcelfNL",
        "colab_type": "code",
        "colab": {
          "base_uri": "https://localhost:8080/",
          "height": 53
        },
        "outputId": "ab96ae75-406a-4876-8a22-307f0f7c0a86"
      },
      "source": [
        "temp = 20\n",
        "\n",
        "if temp>25:\n",
        "  print(\"더워요. 온도는\", temp, \"입니다.\")\n",
        "else:\n",
        "  print(\"시원해요. 온도는\", temp, \"입니다.\")\n",
        "print(\"hello\")"
      ],
      "execution_count": 9,
      "outputs": [
        {
          "output_type": "stream",
          "text": [
            "시원해요. 온도는 20 입니다.\n",
            "hello\n"
          ],
          "name": "stdout"
        }
      ]
    },
    {
      "cell_type": "code",
      "metadata": {
        "id": "Bf2eXjNOwOPi",
        "colab_type": "code",
        "colab": {
          "base_uri": "https://localhost:8080/",
          "height": 35
        },
        "outputId": "a2fb9a4e-57f3-43d2-fd2a-ed402a196096"
      },
      "source": [
        "temp = 10\n",
        "if temp > 25:\n",
        "  print(\"더워요. 온도가\",temp,\"도 입니다.\")\n",
        "elif temp > 15:\n",
        "  print(\"시원해요. 온도가\",temp,\"도 입니다.\")  \n",
        "else:\n",
        "  print(\"추워요. 온도가\",temp,\"도 입니다.\")"
      ],
      "execution_count": 14,
      "outputs": [
        {
          "output_type": "stream",
          "text": [
            "추워요. 온도가 10 도 입니다.\n"
          ],
          "name": "stdout"
        }
      ]
    },
    {
      "cell_type": "markdown",
      "metadata": {
        "id": "MrRX-RB2yy1u",
        "colab_type": "text"
      },
      "source": [
        "**문제9. 입력을받아 현재 날씨를 나타내도록 해보시오**"
      ]
    },
    {
      "cell_type": "code",
      "metadata": {
        "id": "lXH9H34flovH",
        "colab_type": "code",
        "colab": {
          "base_uri": "https://localhost:8080/",
          "height": 53
        },
        "outputId": "e59e5384-7e82-4f5f-f49e-0246921537c5"
      },
      "source": [
        "temp = int(input())\n",
        "\n",
        "if temp > 25:\n",
        "  print(\"더워요. 온도가\",temp,\"도 입니다.\")\n",
        "elif temp > 15:\n",
        "  print(\"시원해요. 온도가\",temp,\"도 입니다.\")  \n",
        "else:\n",
        "  print(\"추워요. 온도가\",temp,\"도 입니다.\")"
      ],
      "execution_count": 15,
      "outputs": [
        {
          "output_type": "stream",
          "text": [
            "22\n",
            "시원해요. 온도가 22 도 입니다.\n"
          ],
          "name": "stdout"
        }
      ]
    },
    {
      "cell_type": "markdown",
      "metadata": {
        "id": "4roPSDguKKOP",
        "colab_type": "text"
      },
      "source": [
        "### 1) boolean 자료형과 비교연산자\n",
        "- 연산자 앞뒤의 값을 비교하여 참과 거짓 반환"
      ]
    },
    {
      "cell_type": "code",
      "metadata": {
        "id": "qcnx-qI_lF0e",
        "colab_type": "code",
        "colab": {
          "base_uri": "https://localhost:8080/",
          "height": 35
        },
        "outputId": "db95d044-8700-4561-bd7e-c6c2a915302c"
      },
      "source": [
        "print(6 == 2)  #print(6 == 2) = print(False)"
      ],
      "execution_count": 5,
      "outputs": [
        {
          "output_type": "stream",
          "text": [
            "False\n"
          ],
          "name": "stdout"
        }
      ]
    },
    {
      "cell_type": "code",
      "metadata": {
        "id": "Nk2U3FyilE57",
        "colab_type": "code",
        "colab": {
          "base_uri": "https://localhost:8080/",
          "height": 35
        },
        "outputId": "838ee27f-0b45-4001-8be5-c386cf4cd3dc"
      },
      "source": [
        "print(6 != 2) #print(6 !=2) = print(True)"
      ],
      "execution_count": 12,
      "outputs": [
        {
          "output_type": "stream",
          "text": [
            "True\n"
          ],
          "name": "stdout"
        }
      ]
    },
    {
      "cell_type": "code",
      "metadata": {
        "id": "Id8cPmhMlFrn",
        "colab_type": "code",
        "colab": {
          "base_uri": "https://localhost:8080/",
          "height": 53
        },
        "outputId": "ffe28800-7387-48b6-8ffd-0f97cd278c5e"
      },
      "source": [
        "print(6 < 2)  #print(6 < 2) = print(False)\n",
        "print(6 > 2)  #print(6 > 2) = print(True)"
      ],
      "execution_count": 6,
      "outputs": [
        {
          "output_type": "stream",
          "text": [
            "False\n",
            "True\n"
          ],
          "name": "stdout"
        }
      ]
    },
    {
      "cell_type": "code",
      "metadata": {
        "id": "5oYC_MZblFe3",
        "colab_type": "code",
        "colab": {
          "base_uri": "https://localhost:8080/",
          "height": 53
        },
        "outputId": "264befbf-79f7-4de8-97fe-9c6ffd81d2f1"
      },
      "source": [
        "print(6 <= 2) #print(6 <=2) = print(False)\n",
        "print(6 >= 6) #print(6 >=6) = print(True)"
      ],
      "execution_count": 7,
      "outputs": [
        {
          "output_type": "stream",
          "text": [
            "False\n",
            "True\n"
          ],
          "name": "stdout"
        }
      ]
    },
    {
      "cell_type": "code",
      "metadata": {
        "id": "WkI0t3EyykfK",
        "colab_type": "code",
        "colab": {
          "base_uri": "https://localhost:8080/",
          "height": 35
        },
        "outputId": "2f960e79-ca38-4a7e-9364-3cd8d2f636ac"
      },
      "source": [
        "print(6 <= int(\"2\")) #print(6 <=2) = print(False)"
      ],
      "execution_count": 20,
      "outputs": [
        {
          "output_type": "stream",
          "text": [
            "False\n"
          ],
          "name": "stdout"
        }
      ]
    },
    {
      "cell_type": "markdown",
      "metadata": {
        "id": "2fUtDYXWrw81",
        "colab_type": "text"
      },
      "source": [
        "# 9.함수\n",
        "```\n",
        "def 함수이름(파라매터):\n",
        "  함수 내용...\n",
        "```\n",
        "- 함수 내용에 해당하는 부분(코드 블럭)을 표시하기 위해 들여쓰기를 합니다\n",
        "- 우리가 사용해왔던 print(), input() 등도 모두 함수\n",
        "- 반복되는 코드에 이름을 붙여서 다시 사용할 수 있게 합니다.\n",
        "- 필요할 때 함수의 이름을 불러서 사용할 수 있습니다.\n",
        "- 이와 유사하게 입력 값이 함수에 들어가면 출력 값이 나옵니다.\n",
        "- 함수에게 전달하는 값을 인자 혹은 매개변수라고 합니다.\n",
        "- 굳이 따지자면 다른 용어이지만 보통 혼용해서 사용합니다.\n",
        "- 함수에게 받아오는 값을 리턴 값, 반환 값, 결과 값이라고 합니다.\n",
        "- 인자와 결과 값은 있을 수도 있고 없을 수도 있습니다.\n"
      ]
    },
    {
      "cell_type": "code",
      "metadata": {
        "id": "Nhep8S1ow0DI",
        "colab_type": "code",
        "colab": {
          "base_uri": "https://localhost:8080/",
          "height": 89
        },
        "outputId": "630d51ef-d4f7-4e1f-f68b-58494f7ea441"
      },
      "source": [
        "print(\"name {}, age {}\".format(\"tom\", 30))\n",
        "print(\"name {}, age {}\".format(\"jerry\", 32))\n",
        "print(\"name {}, age {}\".format(\"철수\", 20))\n",
        "print(\"name {}, age {}\".format(\"영희\", 22))"
      ],
      "execution_count": 16,
      "outputs": [
        {
          "output_type": "stream",
          "text": [
            "name tom, age 30\n",
            "name jerry, age 32\n",
            "name 철수, age 20\n",
            "name 영희, age 22\n"
          ],
          "name": "stdout"
        }
      ]
    },
    {
      "cell_type": "code",
      "metadata": {
        "id": "vbRKpslLwz5o",
        "colab_type": "code",
        "colab": {
          "base_uri": "https://localhost:8080/",
          "height": 89
        },
        "outputId": "f739e835-5685-41d6-9f91-872724a2c572"
      },
      "source": [
        "print(\"이름 {}, 나이 {}\".format(\"tom\", 30))\n",
        "print(\"이름 {}, 나이 {}\".format(\"jerry\", 32))\n",
        "print(\"이름 {}, 나이 {}\".format(\"철수\", 20))\n",
        "print(\"이름 {}, 나이 {}\".format(\"영희\", 22))"
      ],
      "execution_count": 17,
      "outputs": [
        {
          "output_type": "stream",
          "text": [
            "이름 tom, 나이 30\n",
            "이름 jerry, 나이 32\n",
            "이름 철수, 나이 20\n",
            "이름 영희, 나이 22\n"
          ],
          "name": "stdout"
        }
      ]
    },
    {
      "cell_type": "markdown",
      "metadata": {
        "id": "g_l8iDRCrwz7",
        "colab_type": "text"
      },
      "source": [
        "## (1) print안에 존재하는 format 메소드"
      ]
    },
    {
      "cell_type": "code",
      "metadata": {
        "id": "spvksXFQHuMf",
        "colab_type": "code",
        "outputId": "21a0d302-d26a-4ff8-d52d-693f1949734a",
        "colab": {
          "base_uri": "https://localhost:8080/",
          "height": 34
        }
      },
      "source": [
        "name = \"tom\"\n",
        "age = 30\n",
        "print(name, age)"
      ],
      "execution_count": 0,
      "outputs": [
        {
          "output_type": "stream",
          "text": [
            "tom 30\n"
          ],
          "name": "stdout"
        }
      ]
    },
    {
      "cell_type": "code",
      "metadata": {
        "id": "QEjUTgOTI8Lr",
        "colab_type": "code",
        "outputId": "381d7275-ca25-41b6-c0df-aab1a2a43974",
        "colab": {
          "base_uri": "https://localhost:8080/",
          "height": 34
        }
      },
      "source": [
        "name = \"tom\"\n",
        "age = 30\n",
        "print(\"name=\",name, \", age=\",age)"
      ],
      "execution_count": 0,
      "outputs": [
        {
          "output_type": "stream",
          "text": [
            "name= tom , age= 30\n"
          ],
          "name": "stdout"
        }
      ]
    },
    {
      "cell_type": "code",
      "metadata": {
        "id": "TrplnZGdI_tf",
        "colab_type": "code",
        "outputId": "7dd0b85f-0e73-496c-b403-e1988814e018",
        "colab": {
          "base_uri": "https://localhost:8080/",
          "height": 34
        }
      },
      "source": [
        "name = \"tom\"\n",
        "age = 30\n",
        "print(\"name={}, age={}\".format(name, age))"
      ],
      "execution_count": 0,
      "outputs": [
        {
          "output_type": "stream",
          "text": [
            "name=tom, age=30\n"
          ],
          "name": "stdout"
        }
      ]
    },
    {
      "cell_type": "markdown",
      "metadata": {
        "id": "9iXxNn2ZJMFP",
        "colab_type": "text"
      },
      "source": [
        "## (2) 함수만들기"
      ]
    },
    {
      "cell_type": "code",
      "metadata": {
        "id": "eEjmIVrwx2z-",
        "colab_type": "code",
        "colab": {
          "base_uri": "https://localhost:8080/",
          "height": 161
        },
        "outputId": "a4109a44-a111-40ac-be24-f2dd05061675"
      },
      "source": [
        "def print_name_and_age(name, age):\n",
        "    print(\"name {}, age {}\".format(name, age))\n",
        "    print(\"반가워요\")\n",
        "\n",
        "    \n",
        "print_name_and_age(\"tom\", 30)\n",
        "print_name_and_age(\"jerry\", 33)\n",
        "print_name_and_age(\"철수\", 20)\n",
        "print_name_and_age(\"영희\", 22)"
      ],
      "execution_count": 19,
      "outputs": [
        {
          "output_type": "stream",
          "text": [
            "name tom, age 30\n",
            "반가워요\n",
            "name jerry, age 33\n",
            "반가워요\n",
            "name 철수, age 20\n",
            "반가워요\n",
            "name 영희, age 22\n",
            "반가워요\n"
          ],
          "name": "stdout"
        }
      ]
    },
    {
      "cell_type": "markdown",
      "metadata": {
        "id": "hWokS2dBzDvq",
        "colab_type": "text"
      },
      "source": [
        "**문제10. 파라매터를3개 받아 다음과같이 출력하는 함수를 만들어 보시오(함수이름은 자유롭게)**\n",
        "- 나의 이름은 000입니다. 나이는 00이고 직업은 0000000입니다."
      ]
    },
    {
      "cell_type": "code",
      "metadata": {
        "id": "O77EWGTSysEo",
        "colab_type": "code",
        "colab": {
          "base_uri": "https://localhost:8080/",
          "height": 35
        },
        "outputId": "6d18543c-7e67-4910-b1bb-f600ddc1b48f"
      },
      "source": [
        "def intro_myself(name, age, job):\n",
        "    print(\"나의 이름은 {}입니다. 나이는 {}이고 직업은 {}입니다.\" .format(name, age, job))\n",
        "\n",
        "\n",
        "intro_myself(\"김정수\", 33, \"개발자\")"
      ],
      "execution_count": 22,
      "outputs": [
        {
          "output_type": "stream",
          "text": [
            "나의 이름은 김정수입니다. 나이는 33이고 직업은 개발자입니다.\n"
          ],
          "name": "stdout"
        }
      ]
    },
    {
      "cell_type": "markdown",
      "metadata": {
        "id": "Pxuc57BR1R2V",
        "colab_type": "text"
      },
      "source": [
        "**문제11. 파라메터를 input함수를 활용하여 직접 적어 위와같은 결과가 나오도록 만들어 보시오.**"
      ]
    },
    {
      "cell_type": "code",
      "metadata": {
        "id": "rMyaq92S0mRF",
        "colab_type": "code",
        "colab": {
          "base_uri": "https://localhost:8080/",
          "height": 89
        },
        "outputId": "3e433057-d8df-4f26-a18d-20a37f86db95"
      },
      "source": [
        "def intro_myself(name, age, job):\n",
        "    print(\"나의 이름은 {}입니다. 나이는 {}이고 직업은 {}입니다.\" .format(name, age, job))\n",
        "\n",
        "\n",
        "intro_myself(input(),input(),input())"
      ],
      "execution_count": 24,
      "outputs": [
        {
          "output_type": "stream",
          "text": [
            "김정수\n",
            "33\n",
            "개발자\n",
            "나의 이름은 김정수입니다. 나이는 33이고 직업은 개발자입니다.\n"
          ],
          "name": "stdout"
        }
      ]
    },
    {
      "cell_type": "markdown",
      "metadata": {
        "id": "zhAoF7cOx4v2",
        "colab_type": "text"
      },
      "source": [
        "**함수의 반환값**\n",
        "\n",
        "- 반환하는 값이 있을 경우 return을 사용한다\n",
        "```\n",
        "def 함수이름(파라매터):\n",
        "  ...\n",
        "  return some\n",
        "```"
      ]
    },
    {
      "cell_type": "markdown",
      "metadata": {
        "id": "JqOeJoj41ypc",
        "colab_type": "text"
      },
      "source": [
        "- 나누기 몫 반환 함수"
      ]
    },
    {
      "cell_type": "code",
      "metadata": {
        "id": "ZbSqSxXryZcg",
        "colab_type": "code",
        "colab": {
          "base_uri": "https://localhost:8080/",
          "height": 89
        },
        "outputId": "50f9a3ba-09db-4352-9e35-6db5a21de7df"
      },
      "source": [
        "def div(a,b): # a를 b로 나누어 몫을 반환한다.\n",
        "    div = int(a/b)\n",
        "    return div\n",
        "\n",
        "\n",
        "print(div(3,2))\n",
        "print(div(4,2))\n",
        "print(div(5,2))\n",
        "print(div(6,2))"
      ],
      "execution_count": 25,
      "outputs": [
        {
          "output_type": "stream",
          "text": [
            "1\n",
            "2\n",
            "2\n",
            "3\n"
          ],
          "name": "stdout"
        }
      ]
    },
    {
      "cell_type": "markdown",
      "metadata": {
        "id": "m6gqEGFa1uEr",
        "colab_type": "text"
      },
      "source": [
        "- 나누기 나머지 반환 함수"
      ]
    },
    {
      "cell_type": "code",
      "metadata": {
        "id": "HfBUF2Cy18Uq",
        "colab_type": "code",
        "colab": {
          "base_uri": "https://localhost:8080/",
          "height": 89
        },
        "outputId": "83aa336e-d72c-416e-802c-3bc2b4be9b81"
      },
      "source": [
        "def mod(a,b): # a를 b로 나누어 나머지를 반환한다.\n",
        "    div = int(a/b)\n",
        "    mod = a - div*b\n",
        "    return mod\n",
        "\n",
        "print(mod(3,2))\n",
        "print(mod(4,2))\n",
        "print(mod(5,2))\n",
        "print(mod(6,2))"
      ],
      "execution_count": 26,
      "outputs": [
        {
          "output_type": "stream",
          "text": [
            "1\n",
            "0\n",
            "1\n",
            "0\n"
          ],
          "name": "stdout"
        }
      ]
    },
    {
      "cell_type": "markdown",
      "metadata": {
        "id": "q2VeD2k61-Uh",
        "colab_type": "text"
      },
      "source": [
        "**문제12. 정수를 받아 짝수여부를 판별하는 함수를 만들어 보시오**"
      ]
    },
    {
      "cell_type": "code",
      "metadata": {
        "id": "c5bIZK8e2U8U",
        "colab_type": "code",
        "colab": {
          "base_uri": "https://localhost:8080/",
          "height": 107
        },
        "outputId": "8cbdd131-76fe-415f-ce20-405a1aa040d1"
      },
      "source": [
        "def is_even(n):\n",
        "    if mod(n,2)==0:\n",
        "        return True\n",
        "    else:\n",
        "        return False\n",
        "\n",
        "\n",
        "print(is_even(1))\n",
        "print(is_even(2))\n",
        "print(is_even(3))\n",
        "print(is_even(4))\n",
        "print(is_even(5))"
      ],
      "execution_count": 27,
      "outputs": [
        {
          "output_type": "stream",
          "text": [
            "False\n",
            "True\n",
            "False\n",
            "True\n",
            "False\n"
          ],
          "name": "stdout"
        }
      ]
    },
    {
      "cell_type": "code",
      "metadata": {
        "id": "nehtoLqz2XEV",
        "colab_type": "code",
        "colab": {
          "base_uri": "https://localhost:8080/",
          "height": 107
        },
        "outputId": "e2f4f1be-2f98-4403-df07-87e2eedabad1"
      },
      "source": [
        "def is_even(n):\n",
        "    is_even = (mod(n,2)==0)\n",
        "    return is_even\n",
        "\n",
        "print(is_even(1))\n",
        "print(is_even(2))\n",
        "print(is_even(3))\n",
        "print(is_even(4))\n",
        "print(is_even(5))"
      ],
      "execution_count": 28,
      "outputs": [
        {
          "output_type": "stream",
          "text": [
            "False\n",
            "True\n",
            "False\n",
            "True\n",
            "False\n"
          ],
          "name": "stdout"
        }
      ]
    },
    {
      "cell_type": "code",
      "metadata": {
        "id": "6UCX4u-y22zl",
        "colab_type": "code",
        "colab": {
          "base_uri": "https://localhost:8080/",
          "height": 107
        },
        "outputId": "5b361c52-76a9-45c4-b9c1-e00bb898770c"
      },
      "source": [
        "def is_even(n):\n",
        "    return (mod(n,2)==0)\n",
        "\n",
        "print(is_even(1))\n",
        "print(is_even(2))\n",
        "print(is_even(3))\n",
        "print(is_even(4))\n",
        "print(is_even(5))"
      ],
      "execution_count": 29,
      "outputs": [
        {
          "output_type": "stream",
          "text": [
            "False\n",
            "True\n",
            "False\n",
            "True\n",
            "False\n"
          ],
          "name": "stdout"
        }
      ]
    },
    {
      "cell_type": "code",
      "metadata": {
        "id": "YgX4sAY72629",
        "colab_type": "code",
        "colab": {
          "base_uri": "https://localhost:8080/",
          "height": 53
        },
        "outputId": "cb047300-7b80-4791-fcfa-1cf78ce50427"
      },
      "source": [
        "n = input()\n",
        "i = int(n)\n",
        "# if int(i/2)*2==i:\n",
        "if is_even(i):\n",
        "    print(\"짝수\")\n",
        "else:\n",
        "    print(\"홀수\")"
      ],
      "execution_count": 30,
      "outputs": [
        {
          "output_type": "stream",
          "text": [
            "5\n",
            "홀수\n"
          ],
          "name": "stdout"
        }
      ]
    },
    {
      "cell_type": "code",
      "metadata": {
        "id": "_rY-fpP83AK0",
        "colab_type": "code",
        "colab": {}
      },
      "source": [
        ""
      ],
      "execution_count": 0,
      "outputs": []
    }
  ]
}